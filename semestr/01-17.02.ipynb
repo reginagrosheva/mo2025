{
  "nbformat": 4,
  "nbformat_minor": 0,
  "metadata": {
    "colab": {
      "provenance": []
    },
    "kernelspec": {
      "name": "python3",
      "display_name": "Python 3"
    },
    "language_info": {
      "name": "python"
    }
  },
  "cells": [
    {
      "cell_type": "markdown",
      "source": [
        "# 01 Основы языка Python\n",
        "\n",
        "Рассмотрим принципы работы с языком, арифметические операции, вывод на экран."
      ],
      "metadata": {
        "id": "UmwDdclJn3cu"
      }
    },
    {
      "cell_type": "markdown",
      "source": [
        "# 1. Очень простые «программы»\n",
        "## 1.1 Запуск Python из командной строки\n",
        "Чтобы выполнить фрагменты кода, мы можем запустить Python из командной строки. В этом блокноте Jupyter мы собираемся смоделировать это. Вы можете вводить команды в поля и выполнять их.\n",
        "В поле введите:\n",
        "\n",
        "`print('Hello, World')`\n",
        "\n",
        "Затем нажмите `<shift> + <return>`, чтобы выполнить команду.\n"
      ],
      "metadata": {
        "id": "wgpOvqwkoL5e"
      }
    },
    {
      "cell_type": "code",
      "source": [
        "print (\"Hello, World')|\")"
      ],
      "metadata": {
        "id": "z0wbzCSmpYvy",
        "colab": {
          "base_uri": "https://localhost:8080/"
        },
        "outputId": "28a5a225-b3c8-4a71-84fd-5fb81131a0b6"
      },
      "execution_count": 1,
      "outputs": [
        {
          "output_type": "stream",
          "name": "stdout",
          "text": [
            "Hello, World')|\n"
          ]
        }
      ]
    },
    {
      "cell_type": "markdown",
      "source": [
        "Что случилось?\n",
        "\n",
        "Вы только что создали программу, которая печатает слова «Hello, World». Среда Python, в которой вы находитесь, немедленно компилирует все, что вы ввели. Это называется интерпретатор языка."
      ],
      "metadata": {
        "id": "pVvtH_sipaLe"
      }
    },
    {
      "cell_type": "markdown",
      "source": [
        "## 1.2 Математика в Python\n",
        "Наберите в ячейке\n",
        "`1 + 1`\n",
        "и выполните код. (см. п. 1.1.)"
      ],
      "metadata": {
        "id": "n2foxPN2pwr0"
      }
    },
    {
      "cell_type": "code",
      "source": [
        "1+1"
      ],
      "metadata": {
        "id": "qb6kPz8Ap6BI",
        "colab": {
          "base_uri": "https://localhost:8080/"
        },
        "outputId": "a5dd6a82-6d0c-4fa8-c710-35aee53b311d"
      },
      "execution_count": 2,
      "outputs": [
        {
          "output_type": "execute_result",
          "data": {
            "text/plain": [
              "2"
            ]
          },
          "metadata": {},
          "execution_count": 2
        }
      ]
    },
    {
      "cell_type": "markdown",
      "source": [
        "Теперь введите\n",
        "\n",
        "`20 + 80`\n",
        "\n",
        "выполните код."
      ],
      "metadata": {
        "id": "yBbIQd6tp-HV"
      }
    },
    {
      "cell_type": "code",
      "source": [
        "20+80"
      ],
      "metadata": {
        "id": "3zaVgKUVqD_H",
        "colab": {
          "base_uri": "https://localhost:8080/"
        },
        "outputId": "e1ccdabf-cf89-402a-dd09-c79296696bc4"
      },
      "execution_count": 3,
      "outputs": [
        {
          "output_type": "execute_result",
          "data": {
            "text/plain": [
              "100"
            ]
          },
          "metadata": {},
          "execution_count": 3
        }
      ]
    },
    {
      "cell_type": "markdown",
      "source": [
        "Попробуйте и другие операции\n",
        "\n",
        "`+` сложение\n",
        "\n",
        "`-` вычитание\n",
        "\n",
        "`*` умножение\n",
        "\n",
        "`/` деление\n"
      ],
      "metadata": {
        "id": "LIIUHqIVqKOk"
      }
    },
    {
      "cell_type": "code",
      "source": [
        "20-16"
      ],
      "metadata": {
        "id": "OfJF_qwvqaGk",
        "colab": {
          "base_uri": "https://localhost:8080/"
        },
        "outputId": "6a33f023-38e9-4fc6-894c-404c90a8c256"
      },
      "execution_count": 4,
      "outputs": [
        {
          "output_type": "execute_result",
          "data": {
            "text/plain": [
              "4"
            ]
          },
          "metadata": {},
          "execution_count": 4
        }
      ]
    },
    {
      "cell_type": "code",
      "source": [
        "20*11"
      ],
      "metadata": {
        "colab": {
          "base_uri": "https://localhost:8080/"
        },
        "id": "EPI5RKrHx_we",
        "outputId": "e7137826-1cee-4a8d-ed4f-9b7151f05550"
      },
      "execution_count": 5,
      "outputs": [
        {
          "output_type": "execute_result",
          "data": {
            "text/plain": [
              "220"
            ]
          },
          "metadata": {},
          "execution_count": 5
        }
      ]
    },
    {
      "cell_type": "code",
      "source": [
        "20/4"
      ],
      "metadata": {
        "colab": {
          "base_uri": "https://localhost:8080/"
        },
        "id": "ZOlobafzyGGF",
        "outputId": "8c9443ad-e7ee-44b7-d2a5-e02a4d2b926a"
      },
      "execution_count": 7,
      "outputs": [
        {
          "output_type": "execute_result",
          "data": {
            "text/plain": [
              "5.0"
            ]
          },
          "metadata": {},
          "execution_count": 7
        }
      ]
    },
    {
      "cell_type": "markdown",
      "source": [
        "Существует операция возведения в степень: $5^2 = $ `5 ** 2`. Попробуйте вычислить в строке ниже."
      ],
      "metadata": {
        "id": "tN5dNWDqqdJk"
      }
    },
    {
      "cell_type": "code",
      "source": [
        "5**2"
      ],
      "metadata": {
        "id": "6ebTTVCGsNBc",
        "colab": {
          "base_uri": "https://localhost:8080/"
        },
        "outputId": "6fde5f5e-ec2c-4222-f886-04acd21ecdd6"
      },
      "execution_count": 8,
      "outputs": [
        {
          "output_type": "execute_result",
          "data": {
            "text/plain": [
              "25"
            ]
          },
          "metadata": {},
          "execution_count": 8
        }
      ]
    },
    {
      "cell_type": "markdown",
      "source": [
        "Операции деления с остатком:\n",
        "\n",
        "// - целая часть от деления\n",
        "\n",
        "% - остаток от деления\n",
        "\n",
        "Посчитайте `7//3`, `11%4`"
      ],
      "metadata": {
        "id": "vGRu1tkXsRjs"
      }
    },
    {
      "cell_type": "code",
      "source": [
        "6//8"
      ],
      "metadata": {
        "id": "bkanXxZEshbg",
        "colab": {
          "base_uri": "https://localhost:8080/"
        },
        "outputId": "4e726793-ce8a-4631-c9b7-d823600bc5a8"
      },
      "execution_count": 9,
      "outputs": [
        {
          "output_type": "execute_result",
          "data": {
            "text/plain": [
              "0"
            ]
          },
          "metadata": {},
          "execution_count": 9
        }
      ]
    },
    {
      "cell_type": "markdown",
      "source": [
        "## 1.3 print - вывод на экран\n",
        "\n",
        "Рассмотрим синтаксис этой функции. Самый простой пример:\n",
        "\n",
        "`print()`\n",
        "\n",
        "Даже если функция не получает никаких аргументов, все равно необходимо вставлять после названия пустые скобки, что значит для интерпретатора выполнить функцию, а не просто ссылаться на нее.\n",
        "\n",
        "В результате этого будет выведен неотображаемый символ пустой строки, она появиться на экране, не нужно путать это с пустой строкой, в которой вообще нет никаких символов.\n",
        "\n",
        "Но чаще всего нужно передать какое-то сообщение пользователю, к примеру:\n",
        "\n",
        "`print('Your message here')`"
      ],
      "metadata": {
        "id": "weOILto5szgr"
      }
    },
    {
      "cell_type": "markdown",
      "source": [
        "Следующий пример – вывод строкового значения из переменной:\n",
        "\n",
        "`message = 'Hello world'`\n",
        "\n",
        "`print(message)`\n",
        "\n"
      ],
      "metadata": {
        "id": "sqZYUcNPttGS"
      }
    },
    {
      "cell_type": "code",
      "source": [
        "print('Your message here')\n"
      ],
      "metadata": {
        "colab": {
          "base_uri": "https://localhost:8080/"
        },
        "id": "m6XK2Astz24O",
        "outputId": "94012b0d-dbb4-45e4-8a76-784f258bd669"
      },
      "execution_count": 14,
      "outputs": [
        {
          "output_type": "stream",
          "name": "stdout",
          "text": [
            "Your message here\n"
          ]
        }
      ]
    },
    {
      "cell_type": "markdown",
      "source": [
        "Выведем разные типы данных:\n",
        "\n",
        "\n",
        "```\n",
        "print('one', 'two', 'three')  # str\n",
        "\n",
        "print(42)  # int\n",
        "\n",
        "print(3.14)  # float\n",
        "\n",
        "print(True)  # bool\n",
        "\n",
        "print([1, 2, 3])  # list\n",
        "\n",
        "print({'red', 'green', 'blue'})  # set\n",
        "\n",
        "print({'name': 'Alice', 'age': 42})  # dict\n",
        "\n",
        "print((1, 2, 3))  # tuple\n",
        "```\n",
        "\n"
      ],
      "metadata": {
        "id": "gT_yQuUst0zq"
      }
    },
    {
      "cell_type": "code",
      "source": [
        "# Вывод строк (str)\n",
        "print('one', 'two', 'three')\n",
        "\n",
        "# Вывод целого числа (int)\n",
        "print(42)\n",
        "\n",
        "# Вывод числа с плавающей точкой (float)\n",
        "print(3.14)\n",
        "\n",
        "# Вывод булевого значения (bool)\n",
        "print(True)\n",
        "\n",
        "# Вывод списка (list)\n",
        "print([1, 2, 3])\n",
        "\n",
        "# Вывод множества (set)\n",
        "print({'red', 'green', 'blue'})\n",
        "\n",
        "# Вывод словаря (dict)\n",
        "print({'name': 'Alice', 'age': 42})\n",
        "\n",
        "# Вывод кортежа (tuple)\n",
        "print((1, 2, 3))"
      ],
      "metadata": {
        "id": "VB1sC6YRuFJS",
        "colab": {
          "base_uri": "https://localhost:8080/"
        },
        "outputId": "b886bbef-f035-4187-f674-709d1af3ef4f"
      },
      "execution_count": 15,
      "outputs": [
        {
          "output_type": "stream",
          "name": "stdout",
          "text": [
            "one two three\n",
            "42\n",
            "3.14\n",
            "True\n",
            "[1, 2, 3]\n",
            "{'blue', 'green', 'red'}\n",
            "{'name': 'Alice', 'age': 42}\n",
            "(1, 2, 3)\n"
          ]
        }
      ]
    },
    {
      "cell_type": "markdown",
      "source": [
        "Вы также можете распечатать переменные, просто разделив их запятыми\n",
        "```\n",
        "name = \"Аделаида\"\n",
        "print(\"Привет\", name, \"как дела?\")\n",
        "```\n"
      ],
      "metadata": {
        "id": "7YsoJe3suU9r"
      }
    },
    {
      "cell_type": "code",
      "source": [
        "# Определение переменной\n",
        "name = \"Аделаида\"\n",
        "\n",
        "# Вывод текста и переменной\n",
        "print(\"Привет\", name, \"как дела?\")"
      ],
      "metadata": {
        "id": "k76loudFucn6",
        "colab": {
          "base_uri": "https://localhost:8080/"
        },
        "outputId": "b946d0aa-0fc0-4d63-d1cf-68ad9160ec26"
      },
      "execution_count": 16,
      "outputs": [
        {
          "output_type": "stream",
          "name": "stdout",
          "text": [
            "Привет Аделаида как дела?\n"
          ]
        }
      ]
    },
    {
      "cell_type": "markdown",
      "source": [
        "#1.4 Комментарии\n",
        "\n",
        "Комментарий это строка кода, которая не выполняется. Служит для разных пояснений. Выполните следующий код:\n",
        "\n",
        "`# I am a comment. Fear my wrath!`"
      ],
      "metadata": {
        "id": "kjmRYTQNuivr"
      }
    },
    {
      "cell_type": "code",
      "source": [
        "# I am a comment. Fear my wrath!\n",
        "print(\"This code will run, but the comment above will not.\")"
      ],
      "metadata": {
        "id": "C9EWkEs5u1tv",
        "colab": {
          "base_uri": "https://localhost:8080/"
        },
        "outputId": "5c76b3ad-5da4-49d4-ba88-4e80862bcb34"
      },
      "execution_count": 17,
      "outputs": [
        {
          "output_type": "stream",
          "name": "stdout",
          "text": [
            "This code will run, but the comment above will not.\n"
          ]
        }
      ]
    },
    {
      "cell_type": "markdown",
      "source": [
        "Комментарий — это фрагмент кода, который не запускается. В Python вы добавляете комментарий, помещая перед ним #. # комментирует все, что находится после него в строке, и ничего перед ним. Попробуйте:\n",
        "\n",
        "`print(\"food is very nice\") #eat me`"
      ],
      "metadata": {
        "id": "G_A2uNGVu6Br"
      }
    },
    {
      "cell_type": "code",
      "source": [
        "print(\"food is very nice\")  # eat me"
      ],
      "metadata": {
        "id": "vCMZWgm1vCzd",
        "colab": {
          "base_uri": "https://localhost:8080/"
        },
        "outputId": "b3ea7eaa-e625-417a-b300-a7adeba7a652"
      },
      "execution_count": 18,
      "outputs": [
        {
          "output_type": "stream",
          "name": "stdout",
          "text": [
            "food is very nice\n"
          ]
        }
      ]
    },
    {
      "cell_type": "markdown",
      "source": [
        "# 1.5 Приоритет операций\n",
        "\n",
        "Помните ту штуку, которую учили на уроках математики, под названием \"порядок действий\"? Что ж, это применимо и к Python. Вот оно, если вам нужно напомнить:\n",
        "\n",
        "1. Круглые скобки()\n",
        "2. Возведение в степень **\n",
        "3. Умножение *, деление / и остаток %\n",
        "4. Сложение + и вычитание -\n",
        "\n",
        "Вот несколько примеров, которые вы можете попробовать:\n",
        "```\n",
        "1 + 2 * 3\n",
        "(1 + 2) * 3\n",
        "```"
      ],
      "metadata": {
        "id": "_vftrmAdxaQS"
      }
    },
    {
      "cell_type": "code",
      "source": [
        "result = 10 + 2 ** 3 * 4 - 6 / 2\n",
        "print(result)  # Вывод: 31.0"
      ],
      "metadata": {
        "id": "s8ZhSbiKxwDa",
        "colab": {
          "base_uri": "https://localhost:8080/"
        },
        "outputId": "677eb9c5-ccbf-413a-d150-e3818c639fc3"
      },
      "execution_count": 19,
      "outputs": [
        {
          "output_type": "stream",
          "name": "stdout",
          "text": [
            "39.0\n"
          ]
        }
      ]
    },
    {
      "cell_type": "markdown",
      "source": [
        "# Задание 1\n",
        "\n",
        "Используя оператор print выведите на экран небольшой рассказ о себе. Должно быть использовано не менее 8 операторов print.\n",
        "\n",
        "Пример:\n",
        "\n",
        "```\n",
        "print('Привет всем! Меня зовут Аристотель.')\n",
        "print(\"Я родился в городе Стагире, греческой колонии в Халкидиках, недалеко от Афонской горы, между июлем и октябрём в первый год \",99,\" олимпиады.\" )\n",
        "print('Я люблю всякие науки, например философию.')\n",
        "print(\"Долгими зиминими вечерами я обычно размышляю о физике.\", \"А потом о метафизике.\")\n",
        "```"
      ],
      "metadata": {
        "id": "mC6vwG0Bvckz"
      }
    },
    {
      "cell_type": "code",
      "source": [
        "print(\"Привет всем! Меня зовут Регина.\")\n",
        "print(\"Я родилась в Москве, столице России.\")\n",
        "print(\"С детства я занималась спортом, а именно художественной гимнастикой.\")\n",
        "print(\"Я достигла больших успехов в этом виде спорта и имею звание мастера спорта.\")\n",
        "print(\"В моей жизни есть два замечательных сфинкса: кот и кошка.\")\n",
        "print(\"Их зовут Опиум и Симба, и они приносят мне много радости.\")\n",
        "print(\"Я люблю проводить время с ними, играть и заботиться о них.\")\n",
        "print(\"Моя жизнь наполнена спортивными достижениями и теплом моих питомцев.\")"
      ],
      "metadata": {
        "id": "HcESMxCWw3P9",
        "colab": {
          "base_uri": "https://localhost:8080/"
        },
        "outputId": "5b5e9aa5-2c79-4685-8c95-9aec9d7645f5"
      },
      "execution_count": 20,
      "outputs": [
        {
          "output_type": "stream",
          "name": "stdout",
          "text": [
            "Привет всем! Меня зовут Регина.\n",
            "Я родилась в Москве, столице России.\n",
            "С детства я занималась спортом, а именно художественной гимнастикой.\n",
            "Я достигла больших успехов в этом виде спорта и имею звание мастера спорта.\n",
            "В моей жизни есть два замечательных сфинкса: кот и кошка.\n",
            "Их зовут Опиум и Симба, и они приносят мне много радости.\n",
            "Я люблю проводить время с ними, играть и заботиться о них.\n",
            "Моя жизнь наполнена спортивными достижениями и теплом моих питомцев.\n"
          ]
        }
      ]
    },
    {
      "cell_type": "markdown",
      "source": [
        "# Задание 2\n",
        "\n",
        "Карандаш стоит 18 рублей 45 копеек за штуку. Покупатель дал кассиру 500 рублей и хочет купить 8 карандашей. Какую сдачу он должен получить? Ответ дайте в рублях.\n"
      ],
      "metadata": {
        "id": "znJt3O_Qw7iU"
      }
    },
    {
      "cell_type": "code",
      "source": [
        "# Стоимость одного карандаша в рублях\n",
        "price_per_pencil = 18.45\n",
        "\n",
        "# Количество карандашей\n",
        "quantity = 8\n",
        "\n",
        "# Общая стоимость карандашей\n",
        "total_cost = price_per_pencil * quantity\n",
        "\n",
        "# Сумма, которую дал покупатель\n",
        "amount_given = 500\n",
        "\n",
        "# Расчет сдачи\n",
        "change = amount_given - total_cost\n",
        "\n",
        "# Вывод результата\n",
        "print(f\"Сдача: {change:.2f} рублей\")"
      ],
      "metadata": {
        "id": "9l0cDUqrz6zt",
        "colab": {
          "base_uri": "https://localhost:8080/"
        },
        "outputId": "259da50d-4751-4cb7-84da-5288c465ac68"
      },
      "execution_count": 21,
      "outputs": [
        {
          "output_type": "stream",
          "name": "stdout",
          "text": [
            "Сдача: 352.40 рублей\n"
          ]
        }
      ]
    },
    {
      "cell_type": "markdown",
      "source": [
        "# Задание 3\n",
        "\n",
        "Ребенок в день съедает два творожка. Творожок продается в упаковках по пять штук. Какое наименьшее число упаковок надо купить, чтобы ребенку хватило на две недели?"
      ],
      "metadata": {
        "id": "zY4uh9scz7SE"
      }
    },
    {
      "cell_type": "code",
      "source": [
        "# Количество творожков в день\n",
        "creams_per_day = 2\n",
        "\n",
        "# Количество дней в двух неделях\n",
        "days_in_two_weeks = 14\n",
        "\n",
        "# Общее количество творожков на две недели\n",
        "total_creams = creams_per_day * days_in_two_weeks\n",
        "\n",
        "# Количество творожков в одной упаковке\n",
        "creams_per_pack = 5\n",
        "\n",
        "# Расчет необходимого количества упаковок\n",
        "packs_needed = (total_creams + creams_per_pack - 1) // creams_per_pack\n",
        "\n",
        "# Вывод результата\n",
        "print(f\"Необходимое количество упаковок: {packs_needed}\")"
      ],
      "metadata": {
        "id": "AwZoZRdG0Biv",
        "colab": {
          "base_uri": "https://localhost:8080/"
        },
        "outputId": "e6aab8b2-e5e3-4867-d7fd-3acd78db4f4e"
      },
      "execution_count": 22,
      "outputs": [
        {
          "output_type": "stream",
          "name": "stdout",
          "text": [
            "Необходимое количество упаковок: 6\n"
          ]
        }
      ]
    },
    {
      "cell_type": "markdown",
      "source": [
        "# Задание 4\n",
        "\n",
        "Килограмм картошки 32 рубля. У Олега есть 1000 р, из этой суммы он 640 р должен положить на телефон, а на остальные деньги он купил картошку. Сколько килограмм купил Олег, если он получил сдачу 8 рублей?"
      ],
      "metadata": {
        "id": "AdFd5gbK0CeE"
      }
    },
    {
      "cell_type": "code",
      "source": [
        "# Общая сумма у Олега\n",
        "total_money = 1000\n",
        "\n",
        "# Сумма, которую он положил на телефон\n",
        "phone_top_up = 640\n",
        "\n",
        "# Сдача, которую он получил\n",
        "change = 8\n",
        "\n",
        "# Цена за килограмм картошки\n",
        "price_per_kg = 32\n",
        "\n",
        "# Расчет суммы, потраченной на картошку\n",
        "money_spent_on_potatoes = total_money - phone_top_up - change\n",
        "\n",
        "# Расчет количества купленной картошки\n",
        "potatoes_kg = money_spent_on_potatoes / price_per_kg\n",
        "\n",
        "# Вывод результата\n",
        "print(f\"Олег купил {potatoes_kg:.2f} кг картошки.\")"
      ],
      "metadata": {
        "id": "23ot9WQT0Jc_",
        "colab": {
          "base_uri": "https://localhost:8080/"
        },
        "outputId": "9ec0983d-bcaa-481a-9e0a-27452b858422"
      },
      "execution_count": 23,
      "outputs": [
        {
          "output_type": "stream",
          "name": "stdout",
          "text": [
            "Олег купил 11.00 кг картошки.\n"
          ]
        }
      ]
    }
  ]
}